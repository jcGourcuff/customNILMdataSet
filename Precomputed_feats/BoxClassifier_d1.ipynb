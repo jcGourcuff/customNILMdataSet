{
  "nbformat": 4,
  "nbformat_minor": 0,
  "metadata": {
    "colab": {
      "name": "BoxClassifier.ipynb",
      "provenance": [],
      "collapsed_sections": []
    },
    "kernelspec": {
      "name": "python3",
      "display_name": "Python 3"
    },
    "accelerator": "GPU"
  },
  "cells": [
    {
      "cell_type": "markdown",
      "metadata": {
        "id": "YslGTjk13_Su",
        "colab_type": "text"
      },
      "source": [
        "This notebook contains the computer vision task aimed to perform the computer vision task that goes within a NILM framework. "
      ]
    },
    {
      "cell_type": "markdown",
      "metadata": {
        "id": "NcSvSO3Q4XrR",
        "colab_type": "text"
      },
      "source": [
        "# Imports\n",
        "\n",
        "### Librairies\n"
      ]
    },
    {
      "cell_type": "code",
      "metadata": {
        "id": "oOXkQx964Wwq",
        "colab_type": "code",
        "colab": {}
      },
      "source": [
        "import numpy as np\n",
        "import torch\n",
        "import torch.nn as nn\n",
        "import pandas as pd\n",
        "import torchvision\n",
        "from torchvision import models,transforms\n",
        "from torch.utils.data import Dataset, DataLoader\n",
        "from PIL import Image\n",
        "from skimage import io\n",
        "import matplotlib.pyplot as plt\n",
        "from sklearn.preprocessing import OneHotEncoder\n",
        "%matplotlib inline"
      ],
      "execution_count": 1,
      "outputs": []
    },
    {
      "cell_type": "markdown",
      "metadata": {
        "id": "6oq8dT0H46JX",
        "colab_type": "text"
      },
      "source": [
        "### Data"
      ]
    },
    {
      "cell_type": "code",
      "metadata": {
        "id": "bcBmydAW48YH",
        "colab_type": "code",
        "colab": {
          "base_uri": "https://localhost:8080/",
          "height": 34
        },
        "outputId": "5334b55c-bc8f-4d19-911b-0f21ec53f7a7"
      },
      "source": [
        "!git clone https://github.com/jcGourcuff/customNILMdataSet.git"
      ],
      "execution_count": 2,
      "outputs": [
        {
          "output_type": "stream",
          "text": [
            "fatal: destination path 'customNILMdataSet' already exists and is not an empty directory.\n"
          ],
          "name": "stdout"
        }
      ]
    },
    {
      "cell_type": "code",
      "metadata": {
        "id": "_Xm9rHcR5Pjl",
        "colab_type": "code",
        "colab": {
          "base_uri": "https://localhost:8080/",
          "height": 34
        },
        "outputId": "666c2acb-e582-4860-a24d-38ccefd8f15d"
      },
      "source": [
        "!ls"
      ],
      "execution_count": 3,
      "outputs": [
        {
          "output_type": "stream",
          "text": [
            "customNILMdataSet  sample_data\n"
          ],
          "name": "stdout"
        }
      ]
    },
    {
      "cell_type": "code",
      "metadata": {
        "id": "jbOrtpaO52CM",
        "colab_type": "code",
        "colab": {}
      },
      "source": [
        "root_dir = 'customNILMdataSet/'"
      ],
      "execution_count": 4,
      "outputs": []
    },
    {
      "cell_type": "markdown",
      "metadata": {
        "id": "v7EITaWY6EcB",
        "colab_type": "text"
      },
      "source": [
        "# Set up\n",
        "\n"
      ]
    },
    {
      "cell_type": "markdown",
      "metadata": {
        "id": "j_fU6idECt0p",
        "colab_type": "text"
      },
      "source": [
        "### Class encoding\n",
        "\n"
      ]
    },
    {
      "cell_type": "code",
      "metadata": {
        "id": "4hLBz_oQ6NZx",
        "colab_type": "code",
        "colab": {
          "base_uri": "https://localhost:8080/",
          "height": 52
        },
        "outputId": "34db15aa-de9c-470e-ebcd-d753e549b19e"
      },
      "source": [
        "classes = ['residuals', 'oven', 'refrigerator', 'dishwasher', 'kitchen_outlets', 'lighting', 'washer_dryer', 'microwave', 'bathroom_gfi']\n",
        "lab_encoder= OneHotEncoder(sparse = False)\n",
        "lab_encoder.fit([[name] for name in classes])"
      ],
      "execution_count": 5,
      "outputs": [
        {
          "output_type": "execute_result",
          "data": {
            "text/plain": [
              "OneHotEncoder(categories='auto', drop=None, dtype=<class 'numpy.float64'>,\n",
              "              handle_unknown='error', sparse=False)"
            ]
          },
          "metadata": {
            "tags": []
          },
          "execution_count": 5
        }
      ]
    },
    {
      "cell_type": "markdown",
      "metadata": {
        "id": "mdMcXTC56pFK",
        "colab_type": "text"
      },
      "source": [
        "### Data set embedding"
      ]
    },
    {
      "cell_type": "code",
      "metadata": {
        "id": "5tz0RZ_D6uzm",
        "colab_type": "code",
        "colab": {}
      },
      "source": [
        "class BoxDataSet(Dataset):\n",
        "\n",
        "    def __init__(self, transform, encoder, batch_size, nb_app):\n",
        "        self.labels = pd.read_csv(root_dir + str(nb_app) + '_apps/labels.csv', compression = 'zip').set_index('id')\n",
        "        self.transform = transform\n",
        "        self.encoder = encoder\n",
        "        self.batch_size = batch_size\n",
        "        self.nb_app = nb_app\n",
        "\n",
        "    def __len__(self):\n",
        "        return self.batch_size*(self.labels.shape[0]//self.batch_size)\n",
        "\n",
        "    def __getitem__(self, idx):\n",
        "\n",
        "        if torch.is_tensor(idx):\n",
        "            idx = idx.tolist()\n",
        "        id = self.labels.index[idx]\n",
        "        label = torch.FloatTensor(self.encoder.transform([[self.labels.loc[id,'label']]])[0])\n",
        "        img = self.extract_img(id)\n",
        "\n",
        "        sample = {'id':id,'image':img,'label':label}\n",
        "\n",
        "        return sample\n",
        "\n",
        "    def extract_img(self, img_id):\n",
        "        img_name = root_dir + str(self.nb_app) + '_apps/images/' + str(img_id) + '.png'\n",
        "        try:\n",
        "          img = Image.open(img_name) # open the image file\n",
        "          img.verify() # verify that it is, in fact an image\n",
        "          img.close()\n",
        "        except (IOError, SyntaxError) as e:\n",
        "          print('Bad file:', img_name)\n",
        "        img =  np.array(Image.open(img_name).convert(\"RGB\"))\n",
        "        img = torch.as_tensor(self.transform(img))[:,-4850:,:]\n",
        "        return img"
      ],
      "execution_count": 6,
      "outputs": []
    },
    {
      "cell_type": "markdown",
      "metadata": {
        "id": "pcBPPGjA8NMC",
        "colab_type": "text"
      },
      "source": [
        "#### Data preprocessing"
      ]
    },
    {
      "cell_type": "code",
      "metadata": {
        "id": "0IcrFW_p8RI5",
        "colab_type": "code",
        "colab": {}
      },
      "source": [
        "normalize = transforms.Normalize(mean=[0.485, 0.456, 0.406], std=[0.229, 0.224, 0.225])\n",
        "transform_image = transforms.Compose([transforms.ToTensor(),normalize])"
      ],
      "execution_count": 7,
      "outputs": []
    },
    {
      "cell_type": "markdown",
      "metadata": {
        "id": "p_mSE9hP7_Sy",
        "colab_type": "text"
      },
      "source": [
        "#### Vizualisation"
      ]
    },
    {
      "cell_type": "code",
      "metadata": {
        "id": "dyJQmIQX79sq",
        "colab_type": "code",
        "colab": {}
      },
      "source": [
        "def imshow(inp, title=None):\n",
        "#   Imshow for Tensor.\n",
        "    inp = inp.numpy().transpose((1, 2, 0))\n",
        "    mean = np.array([0.485, 0.456, 0.406])\n",
        "    std = np.array([0.229, 0.224, 0.225])\n",
        "    inp = np.clip(std * inp + mean, 0,1)\n",
        "    plt.figure(figsize = (40,8) )\n",
        "    plt.imshow(inp)\n",
        "    if title is not None:\n",
        "        plt.title(title)\n",
        "    plt.pause(0.001)"
      ],
      "execution_count": 8,
      "outputs": []
    },
    {
      "cell_type": "markdown",
      "metadata": {
        "id": "tlzIw6st7zS2",
        "colab_type": "text"
      },
      "source": [
        "#### Test data loading"
      ]
    },
    {
      "cell_type": "code",
      "metadata": {
        "id": "ZQI_h4wU7335",
        "colab_type": "code",
        "colab": {
          "base_uri": "https://localhost:8080/",
          "height": 499
        },
        "outputId": "87be5f5f-5434-4fa1-d456-1866a95fd9ec"
      },
      "source": [
        "test_set = BoxDataSet(transform=transform_image, encoder = lab_encoder, batch_size = 1, nb_app = 2)\n",
        "test_loader = DataLoader(test_set, batch_size = 1, shuffle=True, num_workers = 1)\n",
        "\n",
        "batch_test = next(iter(test_loader))\n",
        "out = torchvision.utils.make_grid(batch_test['image'])\n",
        "imshow(out, title=[lab_encoder.inverse_transform([batch_test['label'][x].numpy()])[0][0]for x in range(1)])"
      ],
      "execution_count": 9,
      "outputs": [
        {
          "output_type": "display_data",
          "data": {
            "image/png": "[encoded data removed]",
            "text/plain": [
              "<Figure size 2880x576 with 1 Axes>"
            ]
          },
          "metadata": {
            "tags": [],
            "needs_background": "light"
          }
        }
      ]
    },
    {
      "cell_type": "markdown",
      "metadata": {
        "id": "xQiKBjh09mZ_",
        "colab_type": "text"
      },
      "source": [
        "### Using GPU"
      ]
    },
    {
      "cell_type": "code",
      "metadata": {
        "id": "o_jeg_o882yG",
        "colab_type": "code",
        "colab": {
          "base_uri": "https://localhost:8080/",
          "height": 34
        },
        "outputId": "bc6759e7-47ce-41c3-92eb-a5a7b5f07c48"
      },
      "source": [
        "device = torch.device(\"cuda:0\" if torch.cuda.is_available() else \"cpu\")\n",
        "print('Using gpu: %s ' % torch.cuda.is_available())"
      ],
      "execution_count": 10,
      "outputs": [
        {
          "output_type": "stream",
          "text": [
            "Using gpu: True \n"
          ],
          "name": "stdout"
        }
      ]
    },
    {
      "cell_type": "markdown",
      "metadata": {
        "id": "rH--XRBjKG6F",
        "colab_type": "text"
      },
      "source": [
        "# Features precomputing"
      ]
    },
    {
      "cell_type": "code",
      "metadata": {
        "id": "ejMfdNE0LI3c",
        "colab_type": "code",
        "colab": {}
      },
      "source": [
        "#Model used for computing the features\n",
        "pretrained_model = models.resnet18(pretrained = True).to(device)\n",
        "pretrained_model_feats = nn.Sequential(*list(pretrained_model.children())[:-1])\n",
        "for param in pretrained_model_feats.parameters():\n",
        "    param.requires_grad = False"
      ],
      "execution_count": 11,
      "outputs": []
    },
    {
      "cell_type": "code",
      "metadata": {
        "id": "rhxPrcOOKL7C",
        "colab_type": "code",
        "colab": {}
      },
      "source": [
        "def preconvfeat(dataloader):\n",
        "    print(\"Precomputing features...\")\n",
        "    conv_features = []\n",
        "    labels_list = []\n",
        "    N = len(dataloader)\n",
        "    k=0\n",
        "    for data in dataloader:\n",
        "        print(\"\\r{}%\".format(np.round(100*k/N, decimals = 2)), end = '')\n",
        "        k+=1\n",
        "        inputs = data['image'].to(device)\n",
        "        labels = data['label'].to(device)\n",
        "        x = pretrained_model_feats(inputs)\n",
        "        conv_features.extend(x.data.cpu().numpy())\n",
        "        labels_list.extend(labels.data.cpu().numpy())\n",
        "\n",
        "        if k == 100 :\n",
        "          break\n",
        "\n",
        "    conv_features = np.concatenate([[feat] for feat in conv_features])\n",
        "    return (conv_features,labels_list)\n",
        "\n"
      ],
      "execution_count": 16,
      "outputs": []
    },
    {
      "cell_type": "code",
      "metadata": {
        "id": "qHvoWBO6PsLz",
        "colab_type": "code",
        "colab": {
          "base_uri": "https://localhost:8080/",
          "height": 52
        },
        "outputId": "51880db6-8a7e-46bf-ac21-e8b65dea8ad5"
      },
      "source": [
        "conv_feats, conv_labels = preconvfeat(test_loader)"
      ],
      "execution_count": 17,
      "outputs": [
        {
          "output_type": "stream",
          "text": [
            "Precomputing features...\n",
            "0.74%"
          ],
          "name": "stdout"
        }
      ]
    },
    {
      "cell_type": "code",
      "metadata": {
        "id": "PZQ419MTUEGP",
        "colab_type": "code",
        "colab": {}
      },
      "source": [
        "datasetfeat = [[torch.from_numpy(f).type(torch.float),torch.tensor(l).type(torch.long)] for (f,l) in zip(conv_feats,conv_labels)]\n",
        "datasetfeat = [(inputs.reshape(-1), classes) for [inputs,classes] in datasetfeat]\n",
        "loaderfeat = DataLoader(datasetfeat, batch_size=33, shuffle=True)"
      ],
      "execution_count": 22,
      "outputs": []
    },
    {
      "cell_type": "markdown",
      "metadata": {
        "id": "g4d5O-_4-ZxI",
        "colab_type": "text"
      },
      "source": [
        "# Model creation"
      ]
    },
    {
      "cell_type": "code",
      "metadata": {
        "id": "ge3Z4qCe9wQO",
        "colab_type": "code",
        "colab": {}
      },
      "source": [
        "class BoxNet(nn.Module):\n",
        "    \"\"\"\n",
        "    Implements the NN that outputs the proba at time t that the corresponding app is on.\n",
        "    \"\"\"\n",
        "\n",
        "    def __init__(self, output_size):\n",
        "        super(BoxNet, self).__init__()\n",
        "        self.output_size = output_size\n",
        "\n",
        "\n",
        "        #self.model = models.resnet18(pretrained = True)\n",
        "\n",
        "        #for param in self.model.parameters():\n",
        "        #    param.requires_grad = False\n",
        "\n",
        "        self.model = nn.Sequential(nn.Dropout(inplace=False),\n",
        "                                nn.Linear(512, 512),\n",
        "                                nn.ReLU(inplace=True),\n",
        "                                nn.BatchNorm1d(512),\n",
        "                                nn.Dropout(inplace = False),\n",
        "                                nn.Linear(512, 512),\n",
        "                                nn.ReLU(inplace=True),\n",
        "                                nn.BatchNorm1d(512),\n",
        "                                nn.Dropout(inplace = False),\n",
        "                                nn.Linear(512, self.output_size))\n",
        "\n",
        "\n",
        "    def forward(self, x):\n",
        "        x = self.model(x)\n",
        "        return x"
      ],
      "execution_count": 24,
      "outputs": []
    },
    {
      "cell_type": "markdown",
      "metadata": {
        "id": "E9mbHIBhAD5s",
        "colab_type": "text"
      },
      "source": [
        "# Training and testing loops"
      ]
    },
    {
      "cell_type": "code",
      "metadata": {
        "id": "omQJF77bAH-r",
        "colab_type": "code",
        "colab": {}
      },
      "source": [
        "def train_model(model,dataloader,size,epochs=1,optimizer=None):\n",
        "    model.train()\n",
        "    batch_count = 1\n",
        "    for epoch in range(epochs):\n",
        "        running_loss = 0.0\n",
        "        running_corrects = 0\n",
        "        for inputs, targets in dataloader:\n",
        "            print(\"\\rbatch {}\".format(batch_count), end = '')\n",
        "            batch_count+=1\n",
        "            inputs = inputs.to(device)\n",
        "            targets = targets.to(device)\n",
        "            outputs = model(inputs)\n",
        "            loss = loss_fn(outputs,targets)\n",
        "            optimizer.zero_grad()\n",
        "            loss.backward()\n",
        "            optimizer.step()\n",
        "            _,preds = torch.max(F(outputs.data),1)\n",
        "            # statistics\n",
        "            running_loss += loss.data.item()\n",
        "            _,classs =  torch.max(targets,1)\n",
        "            running_corrects += torch.sum(preds == classs)\n",
        "        epoch_loss = running_loss / size\n",
        "        epoch_acc = running_corrects.data.item() / size\n",
        "        print('Loss: {:.4f} Acc: {:.4f}'.format(\n",
        "                     epoch_loss, epoch_acc))"
      ],
      "execution_count": 26,
      "outputs": []
    },
    {
      "cell_type": "markdown",
      "metadata": {
        "id": "lYBBPZkJATWQ",
        "colab_type": "text"
      },
      "source": [
        "# Instanciating and training"
      ]
    },
    {
      "cell_type": "markdown",
      "metadata": {
        "id": "rVvmTHMyAcdI",
        "colab_type": "text"
      },
      "source": [
        "### Training without selecting the images\n",
        "\n",
        "In this first part we will train the model on dignals composed of a pre-defined number of apps. There is no selction made on the images we pick. Thus there are high chances that the model overfits over-represented classes and that parasite samples come to blur the rules we are trying to infer."
      ]
    },
    {
      "cell_type": "code",
      "metadata": {
        "id": "ruGqi2LNCPAP",
        "colab_type": "code",
        "colab": {}
      },
      "source": [
        "nb_outputs_ = 9"
      ],
      "execution_count": 29,
      "outputs": []
    },
    {
      "cell_type": "code",
      "metadata": {
        "id": "0TdyXP-9-kmp",
        "colab_type": "code",
        "colab": {}
      },
      "source": [
        "BoxModel = BoxNet(nb_outputs_).to(device)"
      ],
      "execution_count": 30,
      "outputs": []
    },
    {
      "cell_type": "code",
      "metadata": {
        "id": "XARyYNjv-szv",
        "colab_type": "code",
        "colab": {}
      },
      "source": [
        "F = nn.Sigmoid().to(device)\n",
        "loss_fn = nn.BCEWithLogitsLoss().to(device)\n",
        "batch_size_ = 1\n",
        "lr_ = 0.001\n",
        "optimizer = torch.optim.Adam(BoxModel.parameters(), lr=lr_)"
      ],
      "execution_count": 31,
      "outputs": []
    },
    {
      "cell_type": "code",
      "metadata": {
        "id": "p-x3wgCzBfMr",
        "colab_type": "code",
        "colab": {}
      },
      "source": [
        "Set_2apps = BoxDataSet(transform=transform_image, encoder = lab_encoder, batch_size = batch_size_, nb_app = 2)\n",
        "Loader_2apps = DataLoader(Set_2apps, batch_size = batch_size_, shuffle=True, num_workers = 1)"
      ],
      "execution_count": 31,
      "outputs": []
    },
    {
      "cell_type": "code",
      "metadata": {
        "id": "loAxoj50EJ0q",
        "colab_type": "code",
        "colab": {
          "base_uri": "https://localhost:8080/",
          "height": 695
        },
        "outputId": "cfb1756c-da81-446b-b487-776362db3ff5"
      },
      "source": [
        "train_model(BoxModel,dataloader = loaderfeat, size = len(loaderfeat),epochs=10,optimizer=optimizer)"
      ],
      "execution_count": 32,
      "outputs": [
        {
          "output_type": "stream",
          "text": [
            "\rbatch 1"
          ],
          "name": "stdout"
        },
        {
          "output_type": "error",
          "ename": "RuntimeError",
          "evalue": "ignored",
          "traceback": [
            "\u001b[0;31m---------------------------------------------------------------------------\u001b[0m",
            "\u001b[0;31mRuntimeError\u001b[0m                              Traceback (most recent call last)",
            "\u001b[0;32m<ipython-input-32-bb0db2876731>\u001b[0m in \u001b[0;36m<module>\u001b[0;34m()\u001b[0m\n\u001b[0;32m----> 1\u001b[0;31m \u001b[0mtrain_model\u001b[0m\u001b[0;34m(\u001b[0m\u001b[0mBoxModel\u001b[0m\u001b[0;34m,\u001b[0m\u001b[0mdataloader\u001b[0m \u001b[0;34m=\u001b[0m \u001b[0mloaderfeat\u001b[0m\u001b[0;34m,\u001b[0m \u001b[0msize\u001b[0m \u001b[0;34m=\u001b[0m \u001b[0mlen\u001b[0m\u001b[0;34m(\u001b[0m\u001b[0mloaderfeat\u001b[0m\u001b[0;34m)\u001b[0m\u001b[0;34m,\u001b[0m\u001b[0mepochs\u001b[0m\u001b[0;34m=\u001b[0m\u001b[0;36m10\u001b[0m\u001b[0;34m,\u001b[0m\u001b[0moptimizer\u001b[0m\u001b[0;34m=\u001b[0m\u001b[0moptimizer\u001b[0m\u001b[0;34m)\u001b[0m\u001b[0;34m\u001b[0m\u001b[0;34m\u001b[0m\u001b[0m\n\u001b[0m",
            "\u001b[0;32m<ipython-input-26-e0f4ee6cf1d3>\u001b[0m in \u001b[0;36mtrain_model\u001b[0;34m(model, dataloader, size, epochs, optimizer)\u001b[0m\n\u001b[1;32m     11\u001b[0m             \u001b[0mtargets\u001b[0m \u001b[0;34m=\u001b[0m \u001b[0mtargets\u001b[0m\u001b[0;34m.\u001b[0m\u001b[0mto\u001b[0m\u001b[0;34m(\u001b[0m\u001b[0mdevice\u001b[0m\u001b[0;34m)\u001b[0m\u001b[0;34m\u001b[0m\u001b[0;34m\u001b[0m\u001b[0m\n\u001b[1;32m     12\u001b[0m             \u001b[0moutputs\u001b[0m \u001b[0;34m=\u001b[0m \u001b[0mmodel\u001b[0m\u001b[0;34m(\u001b[0m\u001b[0minputs\u001b[0m\u001b[0;34m)\u001b[0m\u001b[0;34m\u001b[0m\u001b[0;34m\u001b[0m\u001b[0m\n\u001b[0;32m---> 13\u001b[0;31m             \u001b[0mloss\u001b[0m \u001b[0;34m=\u001b[0m \u001b[0mloss_fn\u001b[0m\u001b[0;34m(\u001b[0m\u001b[0moutputs\u001b[0m\u001b[0;34m,\u001b[0m\u001b[0mtargets\u001b[0m\u001b[0;34m)\u001b[0m\u001b[0;34m\u001b[0m\u001b[0;34m\u001b[0m\u001b[0m\n\u001b[0m\u001b[1;32m     14\u001b[0m             \u001b[0moptimizer\u001b[0m\u001b[0;34m.\u001b[0m\u001b[0mzero_grad\u001b[0m\u001b[0;34m(\u001b[0m\u001b[0;34m)\u001b[0m\u001b[0;34m\u001b[0m\u001b[0;34m\u001b[0m\u001b[0m\n\u001b[1;32m     15\u001b[0m             \u001b[0mloss\u001b[0m\u001b[0;34m.\u001b[0m\u001b[0mbackward\u001b[0m\u001b[0;34m(\u001b[0m\u001b[0;34m)\u001b[0m\u001b[0;34m\u001b[0m\u001b[0;34m\u001b[0m\u001b[0m\n",
            "\u001b[0;32m/usr/local/lib/python3.6/dist-packages/torch/nn/modules/module.py\u001b[0m in \u001b[0;36m__call__\u001b[0;34m(self, *input, **kwargs)\u001b[0m\n\u001b[1;32m    548\u001b[0m             \u001b[0mresult\u001b[0m \u001b[0;34m=\u001b[0m \u001b[0mself\u001b[0m\u001b[0;34m.\u001b[0m\u001b[0m_slow_forward\u001b[0m\u001b[0;34m(\u001b[0m\u001b[0;34m*\u001b[0m\u001b[0minput\u001b[0m\u001b[0;34m,\u001b[0m \u001b[0;34m**\u001b[0m\u001b[0mkwargs\u001b[0m\u001b[0;34m)\u001b[0m\u001b[0;34m\u001b[0m\u001b[0;34m\u001b[0m\u001b[0m\n\u001b[1;32m    549\u001b[0m         \u001b[0;32melse\u001b[0m\u001b[0;34m:\u001b[0m\u001b[0;34m\u001b[0m\u001b[0;34m\u001b[0m\u001b[0m\n\u001b[0;32m--> 550\u001b[0;31m             \u001b[0mresult\u001b[0m \u001b[0;34m=\u001b[0m \u001b[0mself\u001b[0m\u001b[0;34m.\u001b[0m\u001b[0mforward\u001b[0m\u001b[0;34m(\u001b[0m\u001b[0;34m*\u001b[0m\u001b[0minput\u001b[0m\u001b[0;34m,\u001b[0m \u001b[0;34m**\u001b[0m\u001b[0mkwargs\u001b[0m\u001b[0;34m)\u001b[0m\u001b[0;34m\u001b[0m\u001b[0;34m\u001b[0m\u001b[0m\n\u001b[0m\u001b[1;32m    551\u001b[0m         \u001b[0;32mfor\u001b[0m \u001b[0mhook\u001b[0m \u001b[0;32min\u001b[0m \u001b[0mself\u001b[0m\u001b[0;34m.\u001b[0m\u001b[0m_forward_hooks\u001b[0m\u001b[0;34m.\u001b[0m\u001b[0mvalues\u001b[0m\u001b[0;34m(\u001b[0m\u001b[0;34m)\u001b[0m\u001b[0;34m:\u001b[0m\u001b[0;34m\u001b[0m\u001b[0;34m\u001b[0m\u001b[0m\n\u001b[1;32m    552\u001b[0m             \u001b[0mhook_result\u001b[0m \u001b[0;34m=\u001b[0m \u001b[0mhook\u001b[0m\u001b[0;34m(\u001b[0m\u001b[0mself\u001b[0m\u001b[0;34m,\u001b[0m \u001b[0minput\u001b[0m\u001b[0;34m,\u001b[0m \u001b[0mresult\u001b[0m\u001b[0;34m)\u001b[0m\u001b[0;34m\u001b[0m\u001b[0;34m\u001b[0m\u001b[0m\n",
            "\u001b[0;32m/usr/local/lib/python3.6/dist-packages/torch/nn/modules/loss.py\u001b[0m in \u001b[0;36mforward\u001b[0;34m(self, input, target)\u001b[0m\n\u001b[1;32m    615\u001b[0m                                                   \u001b[0mself\u001b[0m\u001b[0;34m.\u001b[0m\u001b[0mweight\u001b[0m\u001b[0;34m,\u001b[0m\u001b[0;34m\u001b[0m\u001b[0;34m\u001b[0m\u001b[0m\n\u001b[1;32m    616\u001b[0m                                                   \u001b[0mpos_weight\u001b[0m\u001b[0;34m=\u001b[0m\u001b[0mself\u001b[0m\u001b[0;34m.\u001b[0m\u001b[0mpos_weight\u001b[0m\u001b[0;34m,\u001b[0m\u001b[0;34m\u001b[0m\u001b[0;34m\u001b[0m\u001b[0m\n\u001b[0;32m--> 617\u001b[0;31m                                                   reduction=self.reduction)\n\u001b[0m\u001b[1;32m    618\u001b[0m \u001b[0;34m\u001b[0m\u001b[0m\n\u001b[1;32m    619\u001b[0m \u001b[0;34m\u001b[0m\u001b[0m\n",
            "\u001b[0;32m/usr/local/lib/python3.6/dist-packages/torch/nn/functional.py\u001b[0m in \u001b[0;36mbinary_cross_entropy_with_logits\u001b[0;34m(input, target, weight, size_average, reduce, reduction, pos_weight)\u001b[0m\n\u001b[1;32m   2433\u001b[0m         \u001b[0;32mraise\u001b[0m \u001b[0mValueError\u001b[0m\u001b[0;34m(\u001b[0m\u001b[0;34m\"Target size ({}) must be the same as input size ({})\"\u001b[0m\u001b[0;34m.\u001b[0m\u001b[0mformat\u001b[0m\u001b[0;34m(\u001b[0m\u001b[0mtarget\u001b[0m\u001b[0;34m.\u001b[0m\u001b[0msize\u001b[0m\u001b[0;34m(\u001b[0m\u001b[0;34m)\u001b[0m\u001b[0;34m,\u001b[0m \u001b[0minput\u001b[0m\u001b[0;34m.\u001b[0m\u001b[0msize\u001b[0m\u001b[0;34m(\u001b[0m\u001b[0;34m)\u001b[0m\u001b[0;34m)\u001b[0m\u001b[0;34m)\u001b[0m\u001b[0;34m\u001b[0m\u001b[0;34m\u001b[0m\u001b[0m\n\u001b[1;32m   2434\u001b[0m \u001b[0;34m\u001b[0m\u001b[0m\n\u001b[0;32m-> 2435\u001b[0;31m     \u001b[0;32mreturn\u001b[0m \u001b[0mtorch\u001b[0m\u001b[0;34m.\u001b[0m\u001b[0mbinary_cross_entropy_with_logits\u001b[0m\u001b[0;34m(\u001b[0m\u001b[0minput\u001b[0m\u001b[0;34m,\u001b[0m \u001b[0mtarget\u001b[0m\u001b[0;34m,\u001b[0m \u001b[0mweight\u001b[0m\u001b[0;34m,\u001b[0m \u001b[0mpos_weight\u001b[0m\u001b[0;34m,\u001b[0m \u001b[0mreduction_enum\u001b[0m\u001b[0;34m)\u001b[0m\u001b[0;34m\u001b[0m\u001b[0;34m\u001b[0m\u001b[0m\n\u001b[0m\u001b[1;32m   2436\u001b[0m \u001b[0;34m\u001b[0m\u001b[0m\n\u001b[1;32m   2437\u001b[0m \u001b[0;34m\u001b[0m\u001b[0m\n",
            "\u001b[0;31mRuntimeError\u001b[0m: result type Float can't be cast to the desired output type Long"
          ]
        }
      ]
    },
    {
      "cell_type": "code",
      "metadata": {
        "id": "5GWgMQBJEkfA",
        "colab_type": "code",
        "colab": {}
      },
      "source": [
        ""
      ],
      "execution_count": null,
      "outputs": []
    }
  ]
}